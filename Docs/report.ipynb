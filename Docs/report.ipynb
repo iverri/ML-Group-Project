{
 "cells": [
  {
   "cell_type": "markdown",
   "metadata": {},
   "source": [
    "# Machine Learning – Group Project\n",
    "\n",
    "### Team [24] – TBA\n",
    "\n",
    "Members:\n",
    "- Kristoffer Seyffarth |StudentNummer|\n",
    "- Tobias Fremming |StudentNummer|\n",
    "- Iver Ringheim [563862]\n",
    "\n",
    "## Exploratory analisys\n",
    "\n",
    "Must include 4 of these\n",
    "* Search domain knowledge\n",
    "* Check if the data is intuitive\n",
    "* Understand how the data was generated\n",
    "* Explore individual features\n",
    "* Explore pairs and groups of features\n",
    "* Clean up features\n",
    "\n",
    "## Predictors\n",
    "\n",
    "## Feature Engineering\n",
    "\n",
    "## Model Interpretation\n",
    "\n"
   ]
  }
 ],
 "metadata": {
  "language_info": {
   "name": "python"
  }
 },
 "nbformat": 4,
 "nbformat_minor": 2
}
