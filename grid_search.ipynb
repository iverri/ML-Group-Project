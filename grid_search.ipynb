{
 "cells": [
  {
   "cell_type": "code",
   "execution_count": null,
   "metadata": {
    "vscode": {
     "languageId": "plaintext"
    }
   },
   "outputs": [],
   "source": [
    "Define the hyperparameter grid\n",
    "hyper_params = {\n",
    "    'ntrees': [400, 600, 1000],        # Number of trees\n",
    "    'max_depth': [8, 10],              # Maximum tree depth\n",
    "    'learn_rate': [0.01, 0.05, 0.1],   # Learning rate\n",
    "    'col_sample_rate': [0.8],          # Column sample rate\n",
    "    'min_rows': [15],                   # Minimum number of rows\n",
    "}\n",
    "\n",
    "# Define search criteria\n",
    "search_criteria = {\n",
    "    'strategy': \"Cartesian\"  # Other options: \"RandomDiscrete\", \"LatinHypercube\"\n",
    "    # 'max_models': 20,       # For RandomDiscrete, limit the number of models\n",
    "    # 'seed': 1234            # For reproducibility\n",
    "}\n",
    "\n",
    "# Initialize the XGBoost estimator for regression\n",
    "xgb_estimator = h2o.estimators.H2OXGBoostEstimator(\n",
    "    seed=1234,\n",
    "    nfolds=5,                        # Number of cross-validation folds\n",
    "    stopping_rounds=10,              # Early stopping if no improvement\n",
    "    distribution='gaussian',         # Set distribution to Gaussian for regression\n",
    "    score_tree_interval=10,          # Interval for scoring trees\n",
    "    fold_assignment='Modulo',        # Method for assigning folds\n",
    "    keep_cross_validation_predictions=True  # Keep CV predictions\n",
    ")\n",
    "\n",
    "# Initialize Grid Search\n",
    "grid = H2OGridSearch(\n",
    "    model=xgb_estimator,\n",
    "    hyper_params=hyper_params,\n",
    "    search_criteria=search_criteria\n",
    ")\n",
    "\n",
    "# Train the grid search\n",
    "grid.train(\n",
    "    x=features_lat,\n",
    "    y=target_lat_sin,\n",
    "    training_frame=train_data_shifted_without_validation,\n",
    "    validation_frame=validation_data_shifted\n",
    ")\n",
    "\n",
    "# Display all models in the grid\n",
    "print(grid)\n",
    "\n",
    "# Sort the grid models by validation MSE (ascending order)\n",
    "sorted_grid = grid.get_grid(\n",
    "    sort_by='validation_mse',  # Sorting metric for regression\n",
    "    decreasing=False            # Ascending order for MSE (lower is better)\n",
    ")\n",
    "\n",
    "print(\"Sorted Grid Models by Validation MSE:\")\n",
    "print(sorted_grid)\n",
    "\n",
    "# Retrieve the best model\n",
    "best_model = sorted_grid.models[0]\n",
    "print(\"Best Model:\", best_model)\n",
    "\n",
    "# Evaluate the best model on the validation set\n",
    "performance = best_model.model_performance(valid=True)\n",
    "print(\"Performance on Validation Set:\")\n",
    "print(performance)\n"
   ]
  }
 ],
 "metadata": {
  "language_info": {
   "name": "python"
  }
 },
 "nbformat": 4,
 "nbformat_minor": 2
}
