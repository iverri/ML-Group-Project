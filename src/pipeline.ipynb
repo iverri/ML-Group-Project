{
 "cells": [
  {
   "cell_type": "code",
   "execution_count": 2,
   "metadata": {},
   "outputs": [],
   "source": [
    "import tensorflow as tf\n",
    "import numpy as np\n",
    "import pandas as pd\n",
    "\n"
   ]
  },
  {
   "cell_type": "code",
   "execution_count": 5,
   "metadata": {},
   "outputs": [],
   "source": [
    "train_data = pd.read_csv('../Datasets/ais_train.csv', delimiter='|')\n",
    "test_data = pd.read_csv('../Datasets/ais_test.csv', delimiter='|')\n",
    "ports_data = pd.read_csv('../Datasets/ports.csv', delimiter='|')\n",
    "ports_data = pd.read_csv('../Datasets/ports.csv', delimiter='|')\n",
    "schedules_data = pd.read_csv('../Datasets/schedules_to_may_2024.csv', delimiter='|')\n",
    "vessels_data = pd.read_csv('../Datasets/vessels.csv', delimiter='|')\n"
   ]
  },
  {
   "cell_type": "code",
   "execution_count": 4,
   "metadata": {},
   "outputs": [
    {
     "name": "stdout",
     "output_type": "stream",
     "text": [
      "                  time    cog   sog  rot  heading  navstat       etaRaw  \\\n",
      "0  2024-01-01 00:00:25  284.0   0.7    0       88        0  01-09 23:00   \n",
      "1  2024-01-01 00:00:36  109.6   0.0   -6      347        1  12-29 20:00   \n",
      "2  2024-01-01 00:01:45  111.0  11.0    0      112        0  01-02 09:00   \n",
      "3  2024-01-01 00:03:11   96.4   0.0    0      142        1  12-31 20:00   \n",
      "4  2024-01-01 00:03:51  214.0  19.7    0      215        0  01-25 12:00   \n",
      "\n",
      "   latitude  longitude                  vesselId                    portId  \n",
      "0 -34.74370  -57.85130  61e9f3a8b937134a3c4bfdf7  61d371c43aeaecc07011a37f  \n",
      "1   8.89440  -79.47939  61e9f3d4b937134a3c4bff1f  634c4de270937fc01c3a7689  \n",
      "2  39.19065  -76.47567  61e9f436b937134a3c4c0131  61d3847bb7b7526e1adf3d19  \n",
      "3 -34.41189  151.02067  61e9f3b4b937134a3c4bfe77  61d36f770a1807568ff9a126  \n",
      "4  35.88379   -5.91636  61e9f41bb937134a3c4c0087  634c4de270937fc01c3a74f3  \n"
     ]
    }
   ],
   "source": [
    "print(train_data.head())"
   ]
  },
  {
   "cell_type": "code",
   "execution_count": null,
   "metadata": {},
   "outputs": [],
   "source": []
  },
  {
   "cell_type": "code",
   "execution_count": null,
   "metadata": {},
   "outputs": [],
   "source": []
  },
  {
   "cell_type": "code",
   "execution_count": null,
   "metadata": {},
   "outputs": [],
   "source": []
  }
 ],
 "metadata": {
  "kernelspec": {
   "display_name": "Python 3",
   "language": "python",
   "name": "python3"
  },
  "language_info": {
   "codemirror_mode": {
    "name": "ipython",
    "version": 3
   },
   "file_extension": ".py",
   "mimetype": "text/x-python",
   "name": "python",
   "nbconvert_exporter": "python",
   "pygments_lexer": "ipython3",
   "version": "3.12.6"
  }
 },
 "nbformat": 4,
 "nbformat_minor": 2
}
